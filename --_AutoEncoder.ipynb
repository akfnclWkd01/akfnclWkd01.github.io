{
  "cells": [
    {
      "cell_type": "markdown",
      "metadata": {
        "id": "view-in-github",
        "colab_type": "text"
      },
      "source": [
        "<a href=\"https://colab.research.google.com/github/akfnclWkd01/akfnclWkd01.github.io/blob/main/--_AutoEncoder.ipynb\" target=\"_parent\"><img src=\"https://colab.research.google.com/assets/colab-badge.svg\" alt=\"Open In Colab\"/></a>"
      ]
    },
    {
      "cell_type": "code",
      "execution_count": 1,
      "metadata": {
        "id": "yoe8HzlqOxQ_"
      },
      "outputs": [],
      "source": [
        "# https://colab.research.google.com/drive/1Iv40irT-Jw83zk2FB3s1Rp8GEH51ZSFv?hl=ko#scrollTo=YZm503-I_tji\n",
        "\n",
        "import matplotlib.pyplot as plt\n",
        "import numpy as np\n",
        "import pandas as pd\n",
        "import tensorflow as tf\n",
        "\n",
        "from sklearn.metrics import accuracy_score, precision_score, recall_score\n",
        "from sklearn.model_selection import train_test_split\n",
        "from tensorflow.keras import layers, losses\n",
        "from tensorflow.keras.datasets import fashion_mnist\n",
        "from tensorflow.keras.models import Model"
      ]
    },
    {
      "cell_type": "code",
      "execution_count": 2,
      "metadata": {
        "id": "rYIYcVCYOxRD",
        "outputId": "cd55a287-961a-496b-d2eb-1b55a72abff1",
        "colab": {
          "base_uri": "https://localhost:8080/"
        }
      },
      "outputs": [
        {
          "output_type": "stream",
          "name": "stdout",
          "text": [
            "(60000, 28, 28)\n",
            "(10000, 28, 28)\n"
          ]
        }
      ],
      "source": [
        "# 테스트 데이터셋 로드\n",
        "(x_train, _), (x_test, _) = fashion_mnist.load_data()\n",
        "\n",
        "x_train = x_train.astype('float32') / 255.\n",
        "x_test = x_test.astype('float32') / 255.\n",
        "\n",
        "print (x_train.shape)\n",
        "print (x_test.shape)"
      ]
    },
    {
      "cell_type": "code",
      "execution_count": 3,
      "metadata": {
        "id": "nlDNSw92OxRE"
      },
      "outputs": [],
      "source": [
        "class Autoencoder(Model):\n",
        "  def __init__(self, latent_dim, shape):\n",
        "    super(Autoencoder, self).__init__()\n",
        "\n",
        "    self.latent_dim = latent_dim\n",
        "    self.shape = shape\n",
        "    self.encoder = tf.keras.Sequential([\n",
        "      layers.Flatten(),\n",
        "      layers.Dense(latent_dim, activation='relu'),\n",
        "    ])\n",
        "    self.decoder = tf.keras.Sequential([\n",
        "      layers.Dense(tf.math.reduce_prod(shape), activation='sigmoid'),\n",
        "      layers.Reshape(shape)\n",
        "    ])\n",
        "\n",
        "  def call(self, x):\n",
        "    encoded = self.encoder(x)\n",
        "    decoded = self.decoder(encoded)\n",
        "    return decoded\n",
        "\n",
        "\n",
        "shape = x_test.shape[1:]\n",
        "latent_dim = 64\n",
        "autoencoder = Autoencoder(latent_dim, shape)"
      ]
    },
    {
      "cell_type": "code",
      "execution_count": 4,
      "metadata": {
        "id": "a0pY18v-OxRE"
      },
      "outputs": [],
      "source": [
        "autoencoder.compile(optimizer='adam', loss=losses.MeanSquaredError())"
      ]
    },
    {
      "cell_type": "code",
      "execution_count": 5,
      "metadata": {
        "id": "aO6ILrlqOxRF",
        "outputId": "60d51156-4d0c-4582-a8ca-8aa1d8c7baa2",
        "colab": {
          "base_uri": "https://localhost:8080/"
        }
      },
      "outputs": [
        {
          "output_type": "stream",
          "name": "stdout",
          "text": [
            "Epoch 1/10\n",
            "1875/1875 [==============================] - 9s 4ms/step - loss: 0.0243 - val_loss: 0.0134\n",
            "Epoch 2/10\n",
            "1875/1875 [==============================] - 8s 4ms/step - loss: 0.0119 - val_loss: 0.0110\n",
            "Epoch 3/10\n",
            "1875/1875 [==============================] - 9s 5ms/step - loss: 0.0102 - val_loss: 0.0098\n",
            "Epoch 4/10\n",
            "1875/1875 [==============================] - 7s 4ms/step - loss: 0.0095 - val_loss: 0.0094\n",
            "Epoch 5/10\n",
            "1875/1875 [==============================] - 9s 5ms/step - loss: 0.0092 - val_loss: 0.0092\n",
            "Epoch 6/10\n",
            "1875/1875 [==============================] - 7s 4ms/step - loss: 0.0090 - val_loss: 0.0091\n",
            "Epoch 7/10\n",
            "1875/1875 [==============================] - 9s 5ms/step - loss: 0.0089 - val_loss: 0.0090\n",
            "Epoch 8/10\n",
            "1875/1875 [==============================] - 8s 4ms/step - loss: 0.0089 - val_loss: 0.0089\n",
            "Epoch 9/10\n",
            "1875/1875 [==============================] - 8s 4ms/step - loss: 0.0088 - val_loss: 0.0089\n",
            "Epoch 10/10\n",
            "1875/1875 [==============================] - 8s 5ms/step - loss: 0.0088 - val_loss: 0.0088\n"
          ]
        },
        {
          "output_type": "execute_result",
          "data": {
            "text/plain": [
              "<keras.src.callbacks.History at 0x7be29753bca0>"
            ]
          },
          "metadata": {},
          "execution_count": 5
        }
      ],
      "source": [
        "autoencoder.fit(x_train, x_train,\n",
        "                epochs=10,\n",
        "                shuffle=True,\n",
        "                validation_data=(x_test, x_test))"
      ]
    },
    {
      "cell_type": "code",
      "execution_count": 6,
      "metadata": {
        "id": "U3a33fUoOxRF",
        "outputId": "c4546302-e047-4e81-cc2c-2e60ba538333",
        "colab": {
          "base_uri": "https://localhost:8080/"
        }
      },
      "outputs": [
        {
          "output_type": "stream",
          "name": "stdout",
          "text": [
            "<class 'numpy.ndarray'>\n",
            "(10000, 28, 28)\n"
          ]
        }
      ],
      "source": [
        "print(type(x_test))\n",
        "print(x_test.shape)\n",
        "encoded_imgs = autoencoder.encoder(x_test).numpy()\n",
        "decoded_imgs = autoencoder.decoder(encoded_imgs).numpy()"
      ]
    },
    {
      "cell_type": "code",
      "execution_count": 7,
      "metadata": {
        "id": "U_ay0uQfOxRG",
        "outputId": "36be5e01-74cf-4371-e0b8-4a1a18cd52e9",
        "colab": {
          "base_uri": "https://localhost:8080/",
          "height": 87
        }
      },
      "outputs": [
        {
          "output_type": "display_data",
          "data": {
            "text/plain": [
              "<Figure size 2000x400 with 20 Axes>"
            ],
            "image/png": "[encoded data removed]"
          },
          "metadata": {}
        }
      ],
      "source": [
        "n = 10\n",
        "plt.figure(figsize=(20, 4))\n",
        "for i in range(n):\n",
        "  # display original\n",
        "  ax = plt.subplot(2, n, i + 1)\n",
        "  plt.imshow(x_test[i])\n",
        "  plt.title(\"original\")\n",
        "  plt.gray()\n",
        "  ax.get_xaxis().set_visible(False)\n",
        "  ax.get_yaxis().set_visible(False)\n",
        "\n",
        "  # display reconstruction\n",
        "  ax = plt.subplot(2, n, i + 1 + n)\n",
        "  plt.imshow(decoded_imgs[i])\n",
        "  plt.title(\"reconstructed\")\n",
        "  plt.gray()\n",
        "  ax.get_xaxis().set_visible(False)\n",
        "  ax.get_yaxis().set_visible(False)\n",
        "plt.show()"
      ]
    },
    {
      "cell_type": "markdown",
      "metadata": {
        "id": "S5G_JMOPOxRG"
      },
      "source": [
        "---"
      ]
    },
    {
      "cell_type": "code",
      "execution_count": 8,
      "metadata": {
        "id": "B7ECcIeQOxRI",
        "outputId": "f644e61d-5e9f-4a20-da62-734531fcdd43",
        "colab": {
          "base_uri": "https://localhost:8080/",
          "height": 457
        }
      },
      "outputs": [
        {
          "output_type": "display_data",
          "data": {
            "text/plain": [
              "<Figure size 2000x200 with 1 Axes>"
            ],
            "image/png": "[encoded data removed]"
          },
          "metadata": {}
        },
        {
          "output_type": "display_data",
          "data": {
            "text/plain": [
              "<Figure size 2000x200 with 1 Axes>"
            ],
            "image/png": "[encoded data removed]"
          },
          "metadata": {}
        }
      ],
      "source": [
        "import matplotlib.pyplot as plt\n",
        "# ------------------------------\n",
        "# 테스트용 이미지 리사이징\n",
        "from PIL import Image\n",
        "import requests\n",
        "from io import BytesIO\n",
        "\n",
        "# 인터넷에서 이미지 가져오기(그냥 신발 이미지)\n",
        "url = 'https://img.freepik.com/free-photo/one-black-sneaker-shoe-isolated-on-white_93675-131266.jpg?w=900&t=st=1705666960~exp=1705667560~hmac=adf8f24b0eb25893b668f699d5205f9d017482c83c8b29a80941c68cc1ed0778'\n",
        "response = requests.get(url)\n",
        "img = Image.open(BytesIO(response.content))\n",
        "\n",
        "# 인터넷에서 가져온 신발 이미지 그려보기.\n",
        "plt.figure(figsize=(20, 2))\n",
        "plt.title(\"original\")\n",
        "plt.imshow(tf.squeeze(img))\n",
        "plt.show()\n",
        "\n",
        "\n",
        "# 인터넷에서 가져온 신발 이미지 그려보기.\n",
        "img = img.resize((28, 28))  # 이미지 리사이징 (28 * 28))\n",
        "plt.figure(figsize=(20, 2))\n",
        "plt.title(\"resize\")\n",
        "plt.imshow(tf.squeeze(img))\n",
        "plt.show()"
      ]
    },
    {
      "cell_type": "code",
      "execution_count": null,
      "metadata": {
        "id": "p88fYS9KOxRI",
        "outputId": "f0572b8d-00fc-47de-9ebb-eb107e262697"
      },
      "outputs": [
        {
          "name": "stdout",
          "output_type": "stream",
          "text": [
            "Collecting opencv-python\n",
            "  Downloading opencv_python-4.9.0.80-cp37-abi3-win_amd64.whl.metadata (20 kB)\n",
            "Requirement already satisfied: numpy>=1.21.2 in d:\\work\\projects\\jypyterlab\\.venv\\lib\\site-packages (from opencv-python) (1.26.3)\n",
            "Downloading opencv_python-4.9.0.80-cp37-abi3-win_amd64.whl (38.6 MB)\n",
            "   ---------------------------------------- 0.0/38.6 MB ? eta -:--:--\n",
            "   - -------------------------------------- 1.1/38.6 MB 36.0 MB/s eta 0:00:02\n",
            "   -- ------------------------------------- 2.6/38.6 MB 33.2 MB/s eta 0:00:02\n",
            "   ---- ----------------------------------- 4.5/38.6 MB 35.8 MB/s eta 0:00:01\n",
            "   ------ --------------------------------- 6.3/38.6 MB 36.7 MB/s eta 0:00:01\n",
            "   -------- ------------------------------- 8.5/38.6 MB 38.8 MB/s eta 0:00:01\n",
            "   ----------- ---------------------------- 10.7/38.6 MB 40.9 MB/s eta 0:00:01\n",
            "   ------------- -------------------------- 12.8/38.6 MB 43.7 MB/s eta 0:00:01\n",
            "   --------------- ------------------------ 15.3/38.6 MB 50.4 MB/s eta 0:00:01\n",
            "   ----------------- ---------------------- 16.8/38.6 MB 46.7 MB/s eta 0:00:01\n",
            "   ------------------- -------------------- 18.6/38.6 MB 43.7 MB/s eta 0:00:01\n",
            "   -------------------- ------------------- 19.7/38.6 MB 38.5 MB/s eta 0:00:01\n",
            "   ----------------------- ---------------- 22.4/38.6 MB 38.6 MB/s eta 0:00:01\n",
            "   ------------------------ --------------- 23.6/38.6 MB 38.5 MB/s eta 0:00:01\n",
            "   ------------------------- -------------- 25.0/38.6 MB 32.8 MB/s eta 0:00:01\n",
            "   --------------------------- ------------ 26.4/38.6 MB 31.2 MB/s eta 0:00:01\n",
            "   ----------------------------- ---------- 28.5/38.6 MB 32.7 MB/s eta 0:00:01\n",
            "   ------------------------------ --------- 29.9/38.6 MB 32.8 MB/s eta 0:00:01\n",
            "   -------------------------------- ------- 31.3/38.6 MB 32.7 MB/s eta 0:00:01\n",
            "   --------------------------------- ------ 32.6/38.6 MB 31.1 MB/s eta 0:00:01\n",
            "   ----------------------------------- ---- 34.1/38.6 MB 32.8 MB/s eta 0:00:01\n",
            "   ------------------------------------ --- 35.4/38.6 MB 31.2 MB/s eta 0:00:01\n",
            "   ------------------------------------- -- 36.6/38.6 MB 31.2 MB/s eta 0:00:01\n",
            "   ---------------------------------------  38.2/38.6 MB 31.2 MB/s eta 0:00:01\n",
            "   ---------------------------------------  38.6/38.6 MB 29.7 MB/s eta 0:00:01\n",
            "   ---------------------------------------  38.6/38.6 MB 29.7 MB/s eta 0:00:01\n",
            "   ---------------------------------------  38.6/38.6 MB 29.7 MB/s eta 0:00:01\n",
            "   ---------------------------------------- 38.6/38.6 MB 20.5 MB/s eta 0:00:00\n",
            "Installing collected packages: opencv-python\n",
            "Successfully installed opencv-python-4.9.0.80\n"
          ]
        }
      ],
      "source": [
        "# https://velog.io/@jaehyeong/OpenCV%EB%A5%BC-%ED%99%9C%EC%9A%A9%ED%95%9C-%EA%B8%B0%EC%B4%88-%EC%9D%B4%EB%AF%B8%EC%A7%80-%EC%B2%98%EB%A6%AC-with-Python\n",
        "!pip install opencv-python"
      ]
    },
    {
      "cell_type": "code",
      "execution_count": 10,
      "metadata": {
        "id": "28HZViUnOxRJ",
        "outputId": "878a51e2-dd07-49a4-ec38-d7a6e3229902",
        "colab": {
          "base_uri": "https://localhost:8080/",
          "height": 1000
        }
      },
      "outputs": [
        {
          "output_type": "stream",
          "name": "stdout",
          "text": [
            "<class 'numpy.ndarray'> (28, 28)\n",
            "[[0.         0.         0.         0.         0.         0.\n",
            "  0.         0.         0.         0.         0.         0.\n",
            "  0.         0.         0.         0.         0.         0.\n",
            "  0.         0.         0.         0.         0.         0.\n",
            "  0.         0.         0.         0.        ]\n",
            " [0.         0.         0.         0.         0.         0.\n",
            "  0.         0.         0.         0.         0.         0.\n",
            "  0.         0.         0.         0.         0.         0.\n",
            "  0.         0.         0.         0.         0.         0.\n",
            "  0.         0.         0.         0.        ]\n",
            " [0.         0.         0.         0.         0.         0.\n",
            "  0.         0.         0.         0.         0.         0.\n",
            "  0.         0.         0.         0.         0.         0.\n",
            "  0.         0.         0.         0.         0.         0.\n",
            "  0.         0.         0.         0.        ]\n",
            " [0.         0.         0.         0.         0.         0.\n",
            "  0.         0.         0.         0.         0.         0.\n",
            "  0.         0.         0.         0.         0.         0.\n",
            "  0.         0.         0.         0.         0.         0.\n",
            "  0.         0.         0.         0.        ]\n",
            " [0.         0.         0.         0.         0.         0.\n",
            "  0.         0.         0.         0.         0.         0.\n",
            "  0.         0.         0.         0.99607843 0.98039216 0.\n",
            "  0.         0.         0.         0.         0.96862745 0.\n",
            "  0.         0.         0.         0.        ]\n",
            " [0.         0.         0.         0.         0.         0.\n",
            "  0.         0.         0.         0.         0.         0.\n",
            "  0.         0.         0.         0.60784316 0.5647059  0.\n",
            "  0.         0.         0.         0.7137255  0.18431373 0.7607843\n",
            "  0.         0.         0.         0.        ]\n",
            " [0.         0.         0.         0.         0.         0.\n",
            "  0.         0.         0.         0.         0.         0.\n",
            "  0.         0.9882353  0.6509804  0.21960784 0.27058825 0.9882353\n",
            "  0.         0.         0.9843137  0.23921569 0.16470589 0.50980395\n",
            "  0.8235294  0.         0.         0.        ]\n",
            " [0.         0.         0.         0.         0.         0.\n",
            "  0.         0.         0.         0.         0.         0.\n",
            "  0.         0.6627451  0.23137255 0.1764706  0.14117648 0.7647059\n",
            "  0.         0.         0.7529412  0.14509805 0.13333334 0.49411765\n",
            "  0.8156863  0.         0.         0.        ]\n",
            " [0.         0.         0.         0.         0.         0.\n",
            "  0.         0.         0.         0.         0.         0.\n",
            "  0.7137255  0.29411766 0.20784314 0.17254902 0.14117648 0.36078432\n",
            "  0.9764706  0.         0.44313726 0.15686275 0.09411765 0.32941177\n",
            "  0.83137256 0.         0.         0.        ]\n",
            " [0.         0.         0.         0.         0.         0.\n",
            "  0.         0.         0.         0.         0.         0.7058824\n",
            "  0.24313726 0.21960784 0.15686275 0.13725491 0.14117648 0.06666667\n",
            "  0.13333334 0.34509805 0.08627451 0.18431373 0.09019608 0.26666668\n",
            "  0.         0.         0.         0.        ]\n",
            " [0.         0.         0.         0.         0.         0.\n",
            "  0.         0.         0.         0.         0.8745098  0.17254902\n",
            "  0.1882353  0.21176471 0.21568628 0.21176471 0.16470589 0.1254902\n",
            "  0.09019608 0.09803922 0.14509805 0.10980392 0.10980392 0.1764706\n",
            "  0.9647059  0.         0.         0.        ]\n",
            " [0.         0.         0.         0.         0.         0.\n",
            "  0.         0.         0.         0.88235295 0.36862746 0.27058825\n",
            "  0.19215687 0.25490198 0.25490198 0.1882353  0.1764706  0.16078432\n",
            "  0.09019608 0.10588235 0.09411765 0.05882353 0.09803922 0.1254902\n",
            "  0.84705883 0.         0.         0.        ]\n",
            " [0.         0.         0.         0.         0.         0.\n",
            "  0.         0.8666667  0.5176471  0.29803923 0.29803923 0.3254902\n",
            "  0.24313726 0.23137255 0.21568628 0.16470589 0.12156863 0.09803922\n",
            "  0.07450981 0.0627451  0.07058824 0.09019608 0.11764706 0.10980392\n",
            "  0.7137255  0.         0.         0.        ]\n",
            " [0.         0.         0.         0.98039216 0.84313726 0.6627451\n",
            "  0.45882353 0.34509805 0.3647059  0.30980393 0.28235295 0.29411766\n",
            "  0.29411766 0.25882354 0.17254902 0.11372549 0.10980392 0.10980392\n",
            "  0.10980392 0.11372549 0.11372549 0.07450981 0.10588235 0.1254902\n",
            "  0.5803922  0.         0.         0.        ]\n",
            " [0.         0.         0.7647059  0.30980393 0.23529412 0.22745098\n",
            "  0.23137255 0.23137255 0.21176471 0.10980392 0.26666668 0.19607843\n",
            "  0.1882353  0.14901961 0.12156863 0.11764706 0.1254902  0.12156863\n",
            "  0.10980392 0.10196079 0.07058824 0.04313726 0.04705882 0.05882353\n",
            "  0.34901962 0.         0.         0.        ]\n",
            " [0.         0.8901961  0.3647059  0.2901961  0.22745098 0.22745098\n",
            "  0.21960784 0.22352941 0.14117648 0.09019608 0.18039216 0.13725491\n",
            "  0.13725491 0.13725491 0.13725491 0.13725491 0.14509805 0.12941177\n",
            "  0.10980392 0.07058824 0.05098039 0.15686275 0.0627451  0.01960784\n",
            "  0.11372549 0.9490196  0.         0.        ]\n",
            " [0.         0.6156863  0.34117648 0.3372549  0.30980393 0.30980393\n",
            "  0.30588236 0.1882353  0.07843138 0.07058824 0.17254902 0.14117648\n",
            "  0.1254902  0.09411765 0.05882353 0.04705882 0.09019608 0.10588235\n",
            "  0.09411765 0.03529412 0.07450981 0.14117648 0.13333334 0.17254902\n",
            "  0.20784314 0.84313726 0.         0.        ]\n",
            " [0.         0.5411765  0.27450982 0.2627451  0.25882354 0.24313726\n",
            "  0.21568628 0.09019608 0.04705882 0.05490196 0.09411765 0.06666667\n",
            "  0.04313726 0.04313726 0.03137255 0.11372549 0.15686275 0.09019608\n",
            "  0.07058824 0.09411765 0.19215687 0.1254902  0.08627451 0.10588235\n",
            "  0.19607843 0.6627451  0.         0.        ]\n",
            " [0.         0.5921569  0.2784314  0.28627452 0.29411766 0.2627451\n",
            "  0.26666668 0.25882354 0.14509805 0.04705882 0.05490196 0.09019608\n",
            "  0.05882353 0.07843138 0.1254902  0.13333334 0.12156863 0.07450981\n",
            "  0.06666667 0.14901961 0.1254902  0.07450981 0.08235294 0.09019608\n",
            "  0.17254902 0.3882353  0.         0.        ]\n",
            " [0.         0.87058824 0.2509804  0.29803923 0.25882354 0.2509804\n",
            "  0.23137255 0.1882353  0.15294118 0.11372549 0.15686275 0.10196079\n",
            "  0.13333334 0.10980392 0.10980392 0.14117648 0.14509805 0.10980392\n",
            "  0.07843138 0.12156863 0.11372549 0.10588235 0.07058824 0.05882353\n",
            "  0.14901961 0.28627452 0.         0.        ]\n",
            " [0.         0.         0.8352941  0.28627452 0.21568628 0.19215687\n",
            "  0.17254902 0.17254902 0.14901961 0.12941177 0.11764706 0.14901961\n",
            "  0.08627451 0.10196079 0.13333334 0.14901961 0.15294118 0.17254902\n",
            "  0.16078432 0.13725491 0.12941177 0.1254902  0.06666667 0.05490196\n",
            "  0.12941177 0.3254902  0.         0.        ]\n",
            " [0.         0.         0.         0.9137255  0.38039216 0.1764706\n",
            "  0.15686275 0.12156863 0.14509805 0.09803922 0.12941177 0.12156863\n",
            "  0.1254902  0.11372549 0.12156863 0.15294118 0.16862746 0.16078432\n",
            "  0.15294118 0.11764706 0.10588235 0.10196079 0.08627451 0.09019608\n",
            "  0.15294118 0.48235294 0.         0.        ]\n",
            " [0.         0.         0.99607843 0.98039216 0.85882354 0.40392157\n",
            "  0.21176471 0.14117648 0.13333334 0.13725491 0.14509805 0.14901961\n",
            "  0.14509805 0.14509805 0.14117648 0.14117648 0.15686275 0.16078432\n",
            "  0.16078432 0.14901961 0.11764706 0.13333334 0.14117648 0.15686275\n",
            "  0.25882354 0.8784314  0.         0.        ]\n",
            " [0.         0.         0.         0.99607843 0.9843137  0.8784314\n",
            "  0.57254905 0.3529412  0.26666668 0.24705882 0.27058825 0.3372549\n",
            "  0.43137255 0.54509807 0.63529414 0.6509804  0.6039216  0.4862745\n",
            "  0.3764706  0.28235295 0.20392157 0.16078432 0.16078432 0.28627452\n",
            "  0.7490196  0.98039216 0.         0.        ]\n",
            " [0.         0.         0.         0.         0.         0.\n",
            "  0.         0.         0.         0.         0.         0.\n",
            "  0.         0.         0.         0.         0.         0.\n",
            "  0.         0.         0.         0.9843137  0.9764706  0.99607843\n",
            "  0.         0.         0.         0.        ]\n",
            " [0.         0.         0.         0.         0.         0.\n",
            "  0.         0.         0.         0.         0.         0.\n",
            "  0.         0.         0.         0.         0.         0.\n",
            "  0.         0.         0.         0.         0.         0.\n",
            "  0.         0.         0.         0.        ]\n",
            " [0.         0.         0.         0.         0.         0.\n",
            "  0.         0.         0.         0.         0.         0.\n",
            "  0.         0.         0.         0.         0.         0.\n",
            "  0.         0.         0.         0.         0.         0.\n",
            "  0.         0.         0.         0.        ]\n",
            " [0.         0.         0.         0.         0.         0.\n",
            "  0.         0.         0.         0.         0.         0.\n",
            "  0.         0.         0.         0.         0.         0.\n",
            "  0.         0.         0.         0.         0.         0.\n",
            "  0.         0.         0.         0.        ]]\n"
          ]
        },
        {
          "output_type": "display_data",
          "data": {
            "text/plain": [
              "<Figure size 640x480 with 1 Axes>"
            ],
            "image/png": "[encoded data removed]"
          },
          "metadata": {}
        }
      ],
      "source": [
        "# 이미지 정규화 하기\n",
        "\n",
        "\n",
        "\n",
        "# 회색조 1채널 히스토그램 (histo_gray.py)\n",
        "import cv2\n",
        "import numpy as np\n",
        "import matplotlib.pylab as plt\n",
        "\n",
        "url = 'https://img.freepik.com/free-photo/one-black-sneaker-shoe-isolated-on-white_93675-131266.jpg?w=900&t=st=1705666960~exp=1705667560~hmac=adf8f24b0eb25893b668f699d5205f9d017482c83c8b29a80941c68cc1ed0778'\n",
        "\n",
        "# 이미지 로드\n",
        "image_nparray = np.asarray(bytearray(requests.get(url).content), dtype=np.uint8)\n",
        "img = cv2.imdecode(image_nparray, cv2.IMREAD_GRAYSCALE)\n",
        "\n",
        "# 이미지 Resize(28, 28)\n",
        "src = cv2.resize(img, dsize=(28, 28), interpolation=cv2.INTER_AREA)\n",
        "src = src.astype('float32') / 255.\n",
        "print(type(src), src.shape)\n",
        "\n",
        "for i in range(len(src)):\n",
        "    for j in range(len(src[i])):\n",
        "        if src[i][j] == 1:\n",
        "            src[i][j] = 0\n",
        "print(src)\n",
        "\n",
        "# 이미지 출력(원본)\n",
        "plt.imshow(tf.squeeze(src))\n",
        "plt.show()"
      ]
    },
    {
      "cell_type": "code",
      "execution_count": 11,
      "metadata": {
        "id": "nX1ZLypnOxRJ",
        "outputId": "9f3db288-f690-4829-fc4a-dd3ad00c9900",
        "colab": {
          "base_uri": "https://localhost:8080/",
          "height": 1000
        }
      },
      "outputs": [
        {
          "output_type": "stream",
          "name": "stdout",
          "text": [
            "<class 'numpy.ndarray'>\n",
            "(1, 28, 28)\n",
            "[[[0.         0.         0.         0.         0.         0.\n",
            "   0.         0.         0.         0.         0.         0.\n",
            "   0.         0.         0.         0.         0.         0.\n",
            "   0.         0.         0.         0.         0.         0.\n",
            "   0.         0.         0.         0.        ]\n",
            "  [0.         0.         0.         0.         0.         0.\n",
            "   0.         0.         0.         0.         0.         0.\n",
            "   0.         0.         0.         0.         0.         0.\n",
            "   0.         0.         0.         0.         0.         0.\n",
            "   0.         0.         0.         0.        ]\n",
            "  [0.         0.         0.         0.         0.         0.\n",
            "   0.         0.         0.         0.         0.         0.\n",
            "   0.         0.         0.         0.         0.         0.\n",
            "   0.         0.         0.         0.         0.         0.\n",
            "   0.         0.         0.         0.        ]\n",
            "  [0.         0.         0.         0.         0.         0.\n",
            "   0.         0.         0.         0.         0.         0.\n",
            "   0.         0.         0.         0.         0.         0.\n",
            "   0.         0.         0.         0.         0.         0.\n",
            "   0.         0.         0.         0.        ]\n",
            "  [0.         0.         0.         0.         0.         0.\n",
            "   0.         0.         0.         0.         0.         0.\n",
            "   0.         0.         0.         0.99607843 0.98039216 0.\n",
            "   0.         0.         0.         0.         0.96862745 0.\n",
            "   0.         0.         0.         0.        ]\n",
            "  [0.         0.         0.         0.         0.         0.\n",
            "   0.         0.         0.         0.         0.         0.\n",
            "   0.         0.         0.         0.60784316 0.5647059  0.\n",
            "   0.         0.         0.         0.7137255  0.18431373 0.7607843\n",
            "   0.         0.         0.         0.        ]\n",
            "  [0.         0.         0.         0.         0.         0.\n",
            "   0.         0.         0.         0.         0.         0.\n",
            "   0.         0.9882353  0.6509804  0.21960784 0.27058825 0.9882353\n",
            "   0.         0.         0.9843137  0.23921569 0.16470589 0.50980395\n",
            "   0.8235294  0.         0.         0.        ]\n",
            "  [0.         0.         0.         0.         0.         0.\n",
            "   0.         0.         0.         0.         0.         0.\n",
            "   0.         0.6627451  0.23137255 0.1764706  0.14117648 0.7647059\n",
            "   0.         0.         0.7529412  0.14509805 0.13333334 0.49411765\n",
            "   0.8156863  0.         0.         0.        ]\n",
            "  [0.         0.         0.         0.         0.         0.\n",
            "   0.         0.         0.         0.         0.         0.\n",
            "   0.7137255  0.29411766 0.20784314 0.17254902 0.14117648 0.36078432\n",
            "   0.9764706  0.         0.44313726 0.15686275 0.09411765 0.32941177\n",
            "   0.83137256 0.         0.         0.        ]\n",
            "  [0.         0.         0.         0.         0.         0.\n",
            "   0.         0.         0.         0.         0.         0.7058824\n",
            "   0.24313726 0.21960784 0.15686275 0.13725491 0.14117648 0.06666667\n",
            "   0.13333334 0.34509805 0.08627451 0.18431373 0.09019608 0.26666668\n",
            "   0.         0.         0.         0.        ]\n",
            "  [0.         0.         0.         0.         0.         0.\n",
            "   0.         0.         0.         0.         0.8745098  0.17254902\n",
            "   0.1882353  0.21176471 0.21568628 0.21176471 0.16470589 0.1254902\n",
            "   0.09019608 0.09803922 0.14509805 0.10980392 0.10980392 0.1764706\n",
            "   0.9647059  0.         0.         0.        ]\n",
            "  [0.         0.         0.         0.         0.         0.\n",
            "   0.         0.         0.         0.88235295 0.36862746 0.27058825\n",
            "   0.19215687 0.25490198 0.25490198 0.1882353  0.1764706  0.16078432\n",
            "   0.09019608 0.10588235 0.09411765 0.05882353 0.09803922 0.1254902\n",
            "   0.84705883 0.         0.         0.        ]\n",
            "  [0.         0.         0.         0.         0.         0.\n",
            "   0.         0.8666667  0.5176471  0.29803923 0.29803923 0.3254902\n",
            "   0.24313726 0.23137255 0.21568628 0.16470589 0.12156863 0.09803922\n",
            "   0.07450981 0.0627451  0.07058824 0.09019608 0.11764706 0.10980392\n",
            "   0.7137255  0.         0.         0.        ]\n",
            "  [0.         0.         0.         0.98039216 0.84313726 0.6627451\n",
            "   0.45882353 0.34509805 0.3647059  0.30980393 0.28235295 0.29411766\n",
            "   0.29411766 0.25882354 0.17254902 0.11372549 0.10980392 0.10980392\n",
            "   0.10980392 0.11372549 0.11372549 0.07450981 0.10588235 0.1254902\n",
            "   0.5803922  0.         0.         0.        ]\n",
            "  [0.         0.         0.7647059  0.30980393 0.23529412 0.22745098\n",
            "   0.23137255 0.23137255 0.21176471 0.10980392 0.26666668 0.19607843\n",
            "   0.1882353  0.14901961 0.12156863 0.11764706 0.1254902  0.12156863\n",
            "   0.10980392 0.10196079 0.07058824 0.04313726 0.04705882 0.05882353\n",
            "   0.34901962 0.         0.         0.        ]\n",
            "  [0.         0.8901961  0.3647059  0.2901961  0.22745098 0.22745098\n",
            "   0.21960784 0.22352941 0.14117648 0.09019608 0.18039216 0.13725491\n",
            "   0.13725491 0.13725491 0.13725491 0.13725491 0.14509805 0.12941177\n",
            "   0.10980392 0.07058824 0.05098039 0.15686275 0.0627451  0.01960784\n",
            "   0.11372549 0.9490196  0.         0.        ]\n",
            "  [0.         0.6156863  0.34117648 0.3372549  0.30980393 0.30980393\n",
            "   0.30588236 0.1882353  0.07843138 0.07058824 0.17254902 0.14117648\n",
            "   0.1254902  0.09411765 0.05882353 0.04705882 0.09019608 0.10588235\n",
            "   0.09411765 0.03529412 0.07450981 0.14117648 0.13333334 0.17254902\n",
            "   0.20784314 0.84313726 0.         0.        ]\n",
            "  [0.         0.5411765  0.27450982 0.2627451  0.25882354 0.24313726\n",
            "   0.21568628 0.09019608 0.04705882 0.05490196 0.09411765 0.06666667\n",
            "   0.04313726 0.04313726 0.03137255 0.11372549 0.15686275 0.09019608\n",
            "   0.07058824 0.09411765 0.19215687 0.1254902  0.08627451 0.10588235\n",
            "   0.19607843 0.6627451  0.         0.        ]\n",
            "  [0.         0.5921569  0.2784314  0.28627452 0.29411766 0.2627451\n",
            "   0.26666668 0.25882354 0.14509805 0.04705882 0.05490196 0.09019608\n",
            "   0.05882353 0.07843138 0.1254902  0.13333334 0.12156863 0.07450981\n",
            "   0.06666667 0.14901961 0.1254902  0.07450981 0.08235294 0.09019608\n",
            "   0.17254902 0.3882353  0.         0.        ]\n",
            "  [0.         0.87058824 0.2509804  0.29803923 0.25882354 0.2509804\n",
            "   0.23137255 0.1882353  0.15294118 0.11372549 0.15686275 0.10196079\n",
            "   0.13333334 0.10980392 0.10980392 0.14117648 0.14509805 0.10980392\n",
            "   0.07843138 0.12156863 0.11372549 0.10588235 0.07058824 0.05882353\n",
            "   0.14901961 0.28627452 0.         0.        ]\n",
            "  [0.         0.         0.8352941  0.28627452 0.21568628 0.19215687\n",
            "   0.17254902 0.17254902 0.14901961 0.12941177 0.11764706 0.14901961\n",
            "   0.08627451 0.10196079 0.13333334 0.14901961 0.15294118 0.17254902\n",
            "   0.16078432 0.13725491 0.12941177 0.1254902  0.06666667 0.05490196\n",
            "   0.12941177 0.3254902  0.         0.        ]\n",
            "  [0.         0.         0.         0.9137255  0.38039216 0.1764706\n",
            "   0.15686275 0.12156863 0.14509805 0.09803922 0.12941177 0.12156863\n",
            "   0.1254902  0.11372549 0.12156863 0.15294118 0.16862746 0.16078432\n",
            "   0.15294118 0.11764706 0.10588235 0.10196079 0.08627451 0.09019608\n",
            "   0.15294118 0.48235294 0.         0.        ]\n",
            "  [0.         0.         0.99607843 0.98039216 0.85882354 0.40392157\n",
            "   0.21176471 0.14117648 0.13333334 0.13725491 0.14509805 0.14901961\n",
            "   0.14509805 0.14509805 0.14117648 0.14117648 0.15686275 0.16078432\n",
            "   0.16078432 0.14901961 0.11764706 0.13333334 0.14117648 0.15686275\n",
            "   0.25882354 0.8784314  0.         0.        ]\n",
            "  [0.         0.         0.         0.99607843 0.9843137  0.8784314\n",
            "   0.57254905 0.3529412  0.26666668 0.24705882 0.27058825 0.3372549\n",
            "   0.43137255 0.54509807 0.63529414 0.6509804  0.6039216  0.4862745\n",
            "   0.3764706  0.28235295 0.20392157 0.16078432 0.16078432 0.28627452\n",
            "   0.7490196  0.98039216 0.         0.        ]\n",
            "  [0.         0.         0.         0.         0.         0.\n",
            "   0.         0.         0.         0.         0.         0.\n",
            "   0.         0.         0.         0.         0.         0.\n",
            "   0.         0.         0.         0.9843137  0.9764706  0.99607843\n",
            "   0.         0.         0.         0.        ]\n",
            "  [0.         0.         0.         0.         0.         0.\n",
            "   0.         0.         0.         0.         0.         0.\n",
            "   0.         0.         0.         0.         0.         0.\n",
            "   0.         0.         0.         0.         0.         0.\n",
            "   0.         0.         0.         0.        ]\n",
            "  [0.         0.         0.         0.         0.         0.\n",
            "   0.         0.         0.         0.         0.         0.\n",
            "   0.         0.         0.         0.         0.         0.\n",
            "   0.         0.         0.         0.         0.         0.\n",
            "   0.         0.         0.         0.        ]\n",
            "  [0.         0.         0.         0.         0.         0.\n",
            "   0.         0.         0.         0.         0.         0.\n",
            "   0.         0.         0.         0.         0.         0.\n",
            "   0.         0.         0.         0.         0.         0.\n",
            "   0.         0.         0.         0.        ]]]\n",
            "[[1.4202504  3.5584264  0.70215726 2.1959953  0.7873368  0.38043565\n",
            "  3.2392583  1.8272367  2.9600937  1.2459526  0.56473935 0.\n",
            "  1.7079108  0.5074816  0.6009877  0.15333593 0.6141547  2.3200274\n",
            "  1.0005093  0.9968631  2.5258398  2.6814055  1.1373906  0.26546893\n",
            "  0.00965416 0.5731753  0.6583642  0.10409594 0.         1.9599051\n",
            "  1.2686907  1.1154809  1.4480368  3.1879916  1.3054757  0.80720174\n",
            "  3.5031223  1.6722705  0.         1.1939042  0.36123085 0.\n",
            "  1.2253774  0.7211797  2.0350275  1.2746407  0.02225089 2.86976\n",
            "  2.2931435  1.7055528  2.4263675  0.60449076 1.7843065  2.0538082\n",
            "  0.40962994 1.2250382  2.0879698  2.5812397  0.         0.\n",
            "  0.59333986 1.5264688  0.         2.7684777 ]]\n"
          ]
        },
        {
          "output_type": "display_data",
          "data": {
            "text/plain": [
              "<Figure size 2000x400 with 2 Axes>"
            ],
            "image/png": "[encoded data removed]"
          },
          "metadata": {}
        }
      ],
      "source": [
        "# encoded_imgs = autoencoder.encoder(src).numpy()\n",
        "# decoded_imgs = autoencoder.decoder(encoded_imgs).numpy()\n",
        "\n",
        "# <class 'numpy.ndarray'>\n",
        "# (10000, 28, 28)\n",
        "\n",
        "print(type(src))\n",
        "print(np.reshape(src, ((1, )+src.shape)).shape)\n",
        "new_src = np.reshape(src, ((1, )+src.shape))\n",
        "encoded_imgs = autoencoder.encoder(new_src).numpy()\n",
        "decoded_imgs = autoencoder.decoder(encoded_imgs).numpy()\n",
        "\n",
        "print(new_src)\n",
        "print(encoded_imgs)\n",
        "\n",
        "n = 10\n",
        "plt.figure(figsize=(20, 4))\n",
        "\n",
        "# display original\n",
        "ax = plt.subplot(2, n, 1)\n",
        "plt.imshow(new_src[0])\n",
        "plt.title(\"original\")\n",
        "plt.gray()\n",
        "ax.get_xaxis().set_visible(False)\n",
        "ax.get_yaxis().set_visible(False)\n",
        "# display recover\n",
        "ax = plt.subplot(2, n, 2)\n",
        "plt.imshow(decoded_imgs[0])\n",
        "plt.title(\"reconstructed\")\n",
        "plt.gray()\n",
        "ax.get_xaxis().set_visible(False)\n",
        "ax.get_yaxis().set_visible(False)\n",
        "\n",
        "plt.show()"
      ]
    },
    {
      "cell_type": "code",
      "execution_count": null,
      "metadata": {
        "id": "a6u1EStwOxRJ"
      },
      "outputs": [],
      "source": [
        "\n",
        "\n",
        "\n",
        "# 회색조 1채널 히스토그램 (histo_gray.py)\n",
        "\n",
        "import cv2\n",
        "import numpy as np\n",
        "import matplotlib.pylab as plt\n",
        "\n",
        "#--① 이미지 그레이 스케일로 읽기 및 출력\n",
        "img = cv2.imread('../img/mountain.jpg', cv2.IMREAD_GRAYSCALE)\n",
        "cv2.imshow('img', img)\n",
        "\n",
        "#--② 히스토그램 계산 및 그리기\n",
        "hist = cv2.calcHist([img], [0], None, [256], [0,256])\n",
        "plt.plot(hist)\n",
        "\n",
        "print(\"hist.shape:\", hist.shape)  #--③ 히스토그램의 shape (256,1)\n",
        "print(\"hist.sum():\", hist.sum(), \"img.shape:\",img.shape) #--④ 히스토그램 총 합계와 이미지의 크기\n",
        "plt.show()"
      ]
    }
  ],
  "metadata": {
    "kernelspec": {
      "display_name": "Python 3",
      "language": "python",
      "name": "python3"
    },
    "language_info": {
      "codemirror_mode": {
        "name": "ipython",
        "version": 3
      },
      "file_extension": ".py",
      "mimetype": "text/x-python",
      "name": "python",
      "nbconvert_exporter": "python",
      "pygments_lexer": "ipython3",
      "version": "3.10.11"
    },
    "colab": {
      "provenance": [],
      "include_colab_link": true
    }
  },
  "nbformat": 4,
  "nbformat_minor": 0
}